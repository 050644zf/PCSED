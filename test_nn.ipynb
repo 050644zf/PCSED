{
 "cells": [
  {
   "cell_type": "code",
   "execution_count": 1,
   "metadata": {},
   "outputs": [],
   "source": [
    "import torch\n",
    "import torch.nn as nn\n",
    "import torch.nn.functional as func\n",
    "import numpy as np\n",
    "\n",
    "from arch.fnet import DCNN, Reshape, DCNN_3\n",
    "from arch.ADMM_net import ADMM_net_2D, ADMM_net_2\n",
    "from arch.GAP_net import  GAP_net_2\n",
    "from arch.NoiseLayer import NoiseLayer\n",
    "from load_config_noarg import *\n",
    "device = torch.device(\"cuda:0\" if torch.cuda.is_available() else \"cpu\")\n",
    "dtype = torch.float"
   ]
  },
  {
   "cell_type": "code",
   "execution_count": 3,
   "metadata": {},
   "outputs": [],
   "source": [
    "y = torch.rand(10,121)\n",
    "Phi = torch.rand(9,121)\n",
    "\n",
    "# net = ADMM_net_2(121)\n",
    "net = GAP_net_2(121,9)\n",
    "noiselayer = NoiseLayer(100,0)"
   ]
  },
  {
   "cell_type": "code",
   "execution_count": 4,
   "metadata": {},
   "outputs": [],
   "source": [
    "import scipy.io as sio\n",
    "phi = sio.loadmat(r'nets\\hybnet\\20231212_143545\\TargetCurves.mat')['TargetCurves']\n",
    "phi = torch.from_numpy(phi).float().to(device_train)"
   ]
  },
  {
   "cell_type": "code",
   "execution_count": 5,
   "metadata": {},
   "outputs": [
    {
     "data": {
      "text/plain": [
       "GAP_net_2(\n",
       "  (net0): MyModel(\n",
       "    (fc1): Linear(in_features=121, out_features=150, bias=True)\n",
       "    (fc2): Linear(in_features=150, out_features=150, bias=True)\n",
       "    (fc3): Linear(in_features=150, out_features=150, bias=True)\n",
       "    (fc4): Linear(in_features=150, out_features=150, bias=True)\n",
       "    (fc5): Linear(in_features=150, out_features=121, bias=True)\n",
       "  )\n",
       "  (net1): MyModel(\n",
       "    (fc1): Linear(in_features=121, out_features=150, bias=True)\n",
       "    (fc2): Linear(in_features=150, out_features=150, bias=True)\n",
       "    (fc3): Linear(in_features=150, out_features=150, bias=True)\n",
       "    (fc4): Linear(in_features=150, out_features=150, bias=True)\n",
       "    (fc5): Linear(in_features=150, out_features=121, bias=True)\n",
       "  )\n",
       "  (net2): MyModel(\n",
       "    (fc1): Linear(in_features=121, out_features=150, bias=True)\n",
       "    (fc2): Linear(in_features=150, out_features=150, bias=True)\n",
       "    (fc3): Linear(in_features=150, out_features=150, bias=True)\n",
       "    (fc4): Linear(in_features=150, out_features=150, bias=True)\n",
       "    (fc5): Linear(in_features=150, out_features=121, bias=True)\n",
       "  )\n",
       "  (net3): MyModel(\n",
       "    (fc1): Linear(in_features=121, out_features=150, bias=True)\n",
       "    (fc2): Linear(in_features=150, out_features=150, bias=True)\n",
       "    (fc3): Linear(in_features=150, out_features=150, bias=True)\n",
       "    (fc4): Linear(in_features=150, out_features=150, bias=True)\n",
       "    (fc5): Linear(in_features=150, out_features=121, bias=True)\n",
       "  )\n",
       "  (net4): MyModel(\n",
       "    (fc1): Linear(in_features=121, out_features=150, bias=True)\n",
       "    (fc2): Linear(in_features=150, out_features=150, bias=True)\n",
       "    (fc3): Linear(in_features=150, out_features=150, bias=True)\n",
       "    (fc4): Linear(in_features=150, out_features=150, bias=True)\n",
       "    (fc5): Linear(in_features=150, out_features=121, bias=True)\n",
       "  )\n",
       "  (net5): MyModel(\n",
       "    (fc1): Linear(in_features=121, out_features=150, bias=True)\n",
       "    (fc2): Linear(in_features=150, out_features=150, bias=True)\n",
       "    (fc3): Linear(in_features=150, out_features=150, bias=True)\n",
       "    (fc4): Linear(in_features=150, out_features=150, bias=True)\n",
       "    (fc5): Linear(in_features=150, out_features=121, bias=True)\n",
       "  )\n",
       "  (net6): MyModel(\n",
       "    (fc1): Linear(in_features=121, out_features=150, bias=True)\n",
       "    (fc2): Linear(in_features=150, out_features=150, bias=True)\n",
       "    (fc3): Linear(in_features=150, out_features=150, bias=True)\n",
       "    (fc4): Linear(in_features=150, out_features=150, bias=True)\n",
       "    (fc5): Linear(in_features=150, out_features=121, bias=True)\n",
       "  )\n",
       "  (net7): MyModel(\n",
       "    (fc1): Linear(in_features=121, out_features=150, bias=True)\n",
       "    (fc2): Linear(in_features=150, out_features=150, bias=True)\n",
       "    (fc3): Linear(in_features=150, out_features=150, bias=True)\n",
       "    (fc4): Linear(in_features=150, out_features=150, bias=True)\n",
       "    (fc5): Linear(in_features=150, out_features=121, bias=True)\n",
       "  )\n",
       "  (net8): MyModel(\n",
       "    (fc1): Linear(in_features=121, out_features=150, bias=True)\n",
       "    (fc2): Linear(in_features=150, out_features=150, bias=True)\n",
       "    (fc3): Linear(in_features=150, out_features=150, bias=True)\n",
       "    (fc4): Linear(in_features=150, out_features=150, bias=True)\n",
       "    (fc5): Linear(in_features=150, out_features=121, bias=True)\n",
       "  )\n",
       "  (noiselayer): NoiseLayer()\n",
       ")"
      ]
     },
     "execution_count": 5,
     "metadata": {},
     "output_type": "execute_result"
    }
   ],
   "source": [
    "\n",
    "import math\n",
    "import tqdm\n",
    "\n",
    "LossFcn = nn.MSELoss()\n",
    "\n",
    "EpochNum = 301\n",
    "\n",
    "optimizer_net = torch.optim.Adam(filter(lambda p: p.requires_grad, net.parameters()), lr=lr)\n",
    "scheduler_net = torch.optim.lr_scheduler.StepLR(optimizer_net, step_size=lr_decay_step, gamma=lr_decay_gamma) \n",
    "\n",
    "loss = torch.tensor([0], device=device_train)\n",
    "loss_train = torch.zeros(math.ceil(EpochNum / TestInterval))\n",
    "loss_test = torch.zeros(math.ceil(EpochNum / TestInterval))\n",
    "net.to(device_train)\n"
   ]
  },
  {
   "cell_type": "code",
   "execution_count": 6,
   "metadata": {},
   "outputs": [
    {
     "name": "stderr",
     "output_type": "stream",
     "text": [
      " 65%|██████▌   | 196/301 [17:15<10:01,  5.73s/it]"
     ]
    }
   ],
   "source": [
    "# Train HybNet\n",
    "for epoch in tqdm.tqdm(range(EpochNum)):\n",
    "    # Shuffle training data\n",
    "    Specs_train = Specs_train[torch.randperm(TrainingDataSize), :]\n",
    "    for i in range(0, TrainingDataSize // BatchSize):\n",
    "        \n",
    "        # Get batch of training data\n",
    "        Specs_batch = Specs_train[i * BatchSize: i * BatchSize + BatchSize, :].to(device_train)\n",
    "        # sampled = torch.matmul(Specs_batch, phi.T).to(device_train)\n",
    "        sampled = Specs_batch.unsqueeze(-1) \n",
    "        # sampled = noiselayer(sampled)\n",
    "        # Forward pass through HybNet\n",
    "        Output_pred = net(sampled, torch.rand(16,121).to(device_train)).sum(dim=2)\n",
    "        # Calculate loss and backpropagate\n",
    "        loss = LossFcn(Specs_batch, Output_pred)\n",
    "        optimizer_net.zero_grad()\n",
    "        loss.backward(retain_graph=True)\n",
    "        optimizer_net.step()\n",
    "    scheduler_net.step()\n",
    "    if epoch % TestInterval == 0:\n",
    "        loss_train[epoch // TestInterval] = loss.data\n",
    "        net.eval()\n",
    "        # Test HybNet\n",
    "        for i in range(0, TestingDataSize // BatchSize):\n",
    "            # Get batch of testing data\n",
    "            Specs_batch = Specs_test[i * BatchSize: i * BatchSize + BatchSize, :].to(device_train)\n",
    "            # sampled = torch.matmul(Specs_batch, phi.T).to(device_train)\n",
    "            sampled = Specs_batch.unsqueeze(-1)\n",
    "            # sampled = noiselayer(sampled)\n",
    "            # Forward pass through HybNet\n",
    "            Output_pred = net(sampled, torch.rand(16,121).to(device_train)).sum(dim=2)\n",
    "            # Calculate loss\n",
    "            loss = LossFcn(Specs_batch, Output_pred)\n",
    "        loss_test[epoch // TestInterval] = loss.data\n",
    "        net.train()\n"
   ]
  },
  {
   "cell_type": "code",
   "execution_count": 1,
   "metadata": {},
   "outputs": [
    {
     "ename": "NameError",
     "evalue": "name 'loss_train' is not defined",
     "output_type": "error",
     "traceback": [
      "\u001b[1;31m---------------------------------------------------------------------------\u001b[0m",
      "\u001b[1;31mNameError\u001b[0m                                 Traceback (most recent call last)",
      "Cell \u001b[1;32mIn[1], line 2\u001b[0m\n\u001b[0;32m      1\u001b[0m \u001b[38;5;28;01mimport\u001b[39;00m \u001b[38;5;21;01mmatplotlib\u001b[39;00m\u001b[38;5;21;01m.\u001b[39;00m\u001b[38;5;21;01mpyplot\u001b[39;00m \u001b[38;5;28;01mas\u001b[39;00m \u001b[38;5;21;01mplt\u001b[39;00m\n\u001b[1;32m----> 2\u001b[0m loss_train \u001b[38;5;241m=\u001b[39m \u001b[43mloss_train\u001b[49m\u001b[38;5;241m.\u001b[39mcpu()\u001b[38;5;241m.\u001b[39mnumpy()\n\u001b[0;32m      3\u001b[0m loss_test \u001b[38;5;241m=\u001b[39m loss_test\u001b[38;5;241m.\u001b[39mcpu()\u001b[38;5;241m.\u001b[39mnumpy()\n\u001b[0;32m      4\u001b[0m plt\u001b[38;5;241m.\u001b[39mplot(loss_train, label\u001b[38;5;241m=\u001b[39m\u001b[38;5;124m'\u001b[39m\u001b[38;5;124mtrain\u001b[39m\u001b[38;5;124m'\u001b[39m)\n",
      "\u001b[1;31mNameError\u001b[0m: name 'loss_train' is not defined"
     ]
    }
   ],
   "source": [
    "import matplotlib.pyplot as plt\n",
    "loss_train = loss_train.cpu().numpy()\n",
    "loss_test = loss_test.cpu().numpy()\n",
    "plt.plot(loss_train, label='train')\n",
    "plt.plot(loss_test, label='test')\n",
    "plt.legend()\n",
    "plt.show()"
   ]
  },
  {
   "cell_type": "code",
   "execution_count": null,
   "metadata": {},
   "outputs": [
    {
     "ename": "NameError",
     "evalue": "name 'loss_test' is not defined",
     "output_type": "error",
     "traceback": [
      "\u001b[1;31m---------------------------------------------------------------------------\u001b[0m",
      "\u001b[1;31mNameError\u001b[0m                                 Traceback (most recent call last)",
      "Cell \u001b[1;32mIn[1], line 1\u001b[0m\n\u001b[1;32m----> 1\u001b[0m \u001b[43mloss_test\u001b[49m\u001b[38;5;241m.\u001b[39mmin(),loss_test[\u001b[38;5;241m-\u001b[39m\u001b[38;5;241m1\u001b[39m]\n",
      "\u001b[1;31mNameError\u001b[0m: name 'loss_test' is not defined"
     ]
    }
   ],
   "source": [
    "loss_test.min(),loss_test[-1]"
   ]
  },
  {
   "cell_type": "code",
   "execution_count": null,
   "metadata": {},
   "outputs": [],
   "source": [
    "# torch.save(net, r'nets\\ADMM_net\\20240123\\admm_net.pth')"
   ]
  },
  {
   "cell_type": "code",
   "execution_count": null,
   "metadata": {},
   "outputs": [],
   "source": [
    "Output_pred = Output_pred.cpu().detach().numpy()\n",
    "Specs_batch = Specs_batch.cpu().detach().numpy()"
   ]
  },
  {
   "cell_type": "code",
   "execution_count": null,
   "metadata": {},
   "outputs": [
    {
     "data": {
      "text/plain": [
       "<matplotlib.legend.Legend at 0x2814494beb0>"
      ]
     },
     "execution_count": 10,
     "metadata": {},
     "output_type": "execute_result"
    },
    {
     "data": {
      "image/png": "[encoded data removed]",
      "text/plain": [
       "<Figure size 432x288 with 1 Axes>"
      ]
     },
     "metadata": {
      "needs_background": "light"
     },
     "output_type": "display_data"
    }
   ],
   "source": [
    "idx = 185\n",
    "plt.plot(Output_pred[idx,:], label='pred')\n",
    "plt.plot(Specs_batch[idx,:], label='true')\n",
    "plt.legend()\n"
   ]
  },
  {
   "cell_type": "code",
   "execution_count": 193,
   "metadata": {},
   "outputs": [
    {
     "data": {
      "text/plain": [
       "tensor(0.0094)"
      ]
     },
     "execution_count": 193,
     "metadata": {},
     "output_type": "execute_result"
    }
   ],
   "source": [
    "Phi = torch.rand(9,20) *200\n",
    "torch.var(torch.sum(Phi, dim=1)/torch.sum(Phi, dim=1).max())"
   ]
  },
  {
   "cell_type": "code",
   "execution_count": null,
   "metadata": {},
   "outputs": [],
   "source": []
  }
 ],
 "metadata": {
  "kernelspec": {
   "display_name": "torch",
   "language": "python",
   "name": "python3"
  },
  "language_info": {
   "codemirror_mode": {
    "name": "ipython",
    "version": 3
   },
   "file_extension": ".py",
   "mimetype": "text/x-python",
   "name": "python",
   "nbconvert_exporter": "python",
   "pygments_lexer": "ipython3",
   "version": "0.0.0"
  },
  "orig_nbformat": 4
 },
 "nbformat": 4,
 "nbformat_minor": 2
}
