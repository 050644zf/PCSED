{
 "cells": [
  {
   "cell_type": "code",
   "execution_count": 1,
   "metadata": {},
   "outputs": [],
   "source": [
    "import torch\n",
    "import torch.nn as nn\n",
    "import torch.nn.functional as func\n",
    "import numpy as np\n",
    "\n",
    "from arch.fnet import DCNN, Reshape, DCNN_3\n",
    "from arch.ADMM_net import ADMM_net_2D\n",
    "device = torch.device(\"cuda:0\" if torch.cuda.is_available() else \"cpu\")\n",
    "dtype = torch.float"
   ]
  },
  {
   "cell_type": "code",
   "execution_count": 7,
   "metadata": {},
   "outputs": [],
   "source": [
    "y = torch.rand(2,9)\n",
    "Phi = torch.rand(1, 121, 9)\n",
    "\n",
    "net = ADMM_net_2D()"
   ]
  },
  {
   "cell_type": "code",
   "execution_count": 8,
   "metadata": {},
   "outputs": [
    {
     "data": {
      "text/plain": [
       "torch.Size([1, 2, 9])"
      ]
     },
     "execution_count": 8,
     "metadata": {},
     "output_type": "execute_result"
    }
   ],
   "source": [
    "y.unsqueeze(0).shape"
   ]
  },
  {
   "cell_type": "code",
   "execution_count": 5,
   "metadata": {},
   "outputs": [
    {
     "data": {
      "text/plain": [
       "torch.Size([1, 121, 9])"
      ]
     },
     "execution_count": 5,
     "metadata": {},
     "output_type": "execute_result"
    }
   ],
   "source": [
    "net(y,Phi).shape"
   ]
  },
  {
   "cell_type": "code",
   "execution_count": 4,
   "metadata": {},
   "outputs": [
    {
     "data": {
      "text/plain": [
       "tensor([[[0.5989, 0.1672, 0.2793,  ..., 0.0574, 0.0613, 0.0172],\n",
       "         [0.2172, 0.1431, 0.4070,  ..., 0.2374, 0.0314, 0.1579],\n",
       "         [0.3182, 0.5625, 0.3602,  ..., 0.1037, 0.0383, 0.1850],\n",
       "         ...,\n",
       "         [0.5684, 0.5634, 0.5355,  ..., 0.1941, 0.0242, 0.1062],\n",
       "         [0.5961, 0.1776, 0.6644,  ..., 0.2489, 0.0446, 0.1240],\n",
       "         [0.0224, 0.7706, 0.0928,  ..., 0.1707, 0.0119, 0.1515]]])"
      ]
     },
     "execution_count": 4,
     "metadata": {},
     "output_type": "execute_result"
    }
   ],
   "source": [
    "torch.unsqueeze(y, 1).repeat(1,Phi.shape[1],1) * Phi"
   ]
  },
  {
   "cell_type": "code",
   "execution_count": null,
   "metadata": {},
   "outputs": [],
   "source": []
  }
 ],
 "metadata": {
  "kernelspec": {
   "display_name": "torch",
   "language": "python",
   "name": "python3"
  },
  "language_info": {
   "codemirror_mode": {
    "name": "ipython",
    "version": 3
   },
   "file_extension": ".py",
   "mimetype": "text/x-python",
   "name": "python",
   "nbconvert_exporter": "python",
   "pygments_lexer": "ipython3",
   "version": "3.10.4"
  },
  "orig_nbformat": 4
 },
 "nbformat": 4,
 "nbformat_minor": 2
}
