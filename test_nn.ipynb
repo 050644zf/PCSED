{
 "cells": [
  {
   "cell_type": "code",
   "execution_count": 1,
   "metadata": {},
   "outputs": [],
   "source": [
    "import torch\n",
    "import torch.nn as nn\n",
    "import torch.nn.functional as func\n",
    "import numpy as np\n",
    "\n",
    "from fnet import DCNN, Reshape\n",
    "device = torch.device(\"cuda:0\" if torch.cuda.is_available() else \"cpu\")\n",
    "dtype = torch.float"
   ]
  },
  {
   "cell_type": "code",
   "execution_count": 2,
   "metadata": {},
   "outputs": [],
   "source": [
    "test_input = np.random.uniform(10,400,[10,20])\n",
    "test_input = torch.tensor(test_input,device=device,dtype=dtype)\n"
   ]
  },
  {
   "cell_type": "code",
   "execution_count": 3,
   "metadata": {},
   "outputs": [],
   "source": [
    "fnet = DCNN(20,121).to(device)"
   ]
  },
  {
   "cell_type": "code",
   "execution_count": 4,
   "metadata": {},
   "outputs": [
    {
     "data": {
      "text/plain": [
       "tensor([[0.4601, 0.4758, 0.7681,  ..., 0.5269, 0.3000, 0.3461],\n",
       "        [0.5000, 0.4919, 0.7701,  ..., 0.5343, 0.3173, 0.3273],\n",
       "        [0.4255, 0.4819, 0.7557,  ..., 0.5000, 0.3174, 0.3385],\n",
       "        ...,\n",
       "        [0.4224, 0.5000, 0.7613,  ..., 0.5101, 0.5000, 0.3537],\n",
       "        [0.4378, 0.5060, 0.7799,  ..., 0.5396, 0.3159, 0.3394],\n",
       "        [0.4369, 0.5000, 0.7578,  ..., 0.5761, 0.3309, 0.3627]],\n",
       "       device='cuda:0', grad_fn=<SigmoidBackward0>)"
      ]
     },
     "execution_count": 4,
     "metadata": {},
     "output_type": "execute_result"
    }
   ],
   "source": [
    "fnet(test_input)"
   ]
  },
  {
   "cell_type": "code",
   "execution_count": null,
   "metadata": {},
   "outputs": [],
   "source": [
    "conv_layer = nn.Conv1d(1, 1, kernel_size=101,padding=50)\n",
    "conv_test = np.random.rand(100,1,800)\n",
    "conv_test = torch.tensor(conv_test,dtype=dtype)\n",
    "batch_norm = nn.BatchNorm1d(1)\n",
    "rs = Reshape(-1,1,800)"
   ]
  },
  {
   "cell_type": "code",
   "execution_count": null,
   "metadata": {},
   "outputs": [],
   "source": [
    "rs(conv_test).shape"
   ]
  },
  {
   "cell_type": "code",
   "execution_count": null,
   "metadata": {},
   "outputs": [],
   "source": [
    "conv_layer(rs(conv_test)).shape"
   ]
  },
  {
   "cell_type": "markdown",
   "metadata": {},
   "source": []
  },
  {
   "cell_type": "code",
   "execution_count": null,
   "metadata": {},
   "outputs": [],
   "source": [
    "batch_norm(conv_test)"
   ]
  },
  {
   "cell_type": "code",
   "execution_count": null,
   "metadata": {},
   "outputs": [],
   "source": [
    "conv_test"
   ]
  },
  {
   "cell_type": "code",
   "execution_count": null,
   "metadata": {},
   "outputs": [],
   "source": []
  }
 ],
 "metadata": {
  "kernelspec": {
   "display_name": "torch",
   "language": "python",
   "name": "python3"
  },
  "language_info": {
   "codemirror_mode": {
    "name": "ipython",
    "version": 3
   },
   "file_extension": ".py",
   "mimetype": "text/x-python",
   "name": "python",
   "nbconvert_exporter": "python",
   "pygments_lexer": "ipython3",
   "version": "3.10.4"
  },
  "orig_nbformat": 4
 },
 "nbformat": 4,
 "nbformat_minor": 2
}
