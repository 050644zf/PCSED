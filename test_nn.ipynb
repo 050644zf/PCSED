{
 "cells": [
  {
   "cell_type": "code",
   "execution_count": 1,
   "metadata": {},
   "outputs": [],
   "source": [
    "import torch\n",
    "import torch.nn as nn\n",
    "import torch.nn.functional as func\n",
    "import numpy as np\n",
    "\n",
    "from fnet import DCNN, Reshape, DCNN_3\n",
    "device = torch.device(\"cuda:0\" if torch.cuda.is_available() else \"cpu\")\n",
    "dtype = torch.float"
   ]
  },
  {
   "cell_type": "code",
   "execution_count": 6,
   "metadata": {},
   "outputs": [
    {
     "data": {
      "text/plain": [
       "tensor([2, 0, 1, 5, 3, 4, 8, 6, 7], device='cuda:0')"
      ]
     },
     "execution_count": 6,
     "metadata": {},
     "output_type": "execute_result"
    }
   ],
   "source": [
    "torch.arange(9, device=device).reshape(3, -1).roll(1, dims=1).reshape(-1)"
   ]
  },
  {
   "cell_type": "code",
   "execution_count": 2,
   "metadata": {},
   "outputs": [],
   "source": [
    "test_input = np.random.uniform(10,400,[10,20])\n",
    "test_input = torch.tensor(test_input,device=device,dtype=dtype)\n"
   ]
  },
  {
   "cell_type": "code",
   "execution_count": 3,
   "metadata": {},
   "outputs": [],
   "source": [
    "fnet = DCNN_3(20,121).to(device)"
   ]
  },
  {
   "cell_type": "code",
   "execution_count": 4,
   "metadata": {},
   "outputs": [
    {
     "data": {
      "text/plain": [
       "tensor([[0.6301, 0.5852, 0.5933,  ..., 0.6006, 0.5788, 0.5059],\n",
       "        [0.6212, 0.5886, 0.6007,  ..., 0.4218, 0.2861, 0.6071],\n",
       "        [0.6480, 0.3020, 0.1551,  ..., 0.5775, 0.4697, 0.5727],\n",
       "        ...,\n",
       "        [0.6278, 0.4508, 0.1612,  ..., 0.6071, 0.6474, 0.5839],\n",
       "        [0.6348, 0.4464, 0.1725,  ..., 0.3401, 0.5803, 0.5986],\n",
       "        [0.6190, 0.4327, 0.1701,  ..., 0.6064, 0.2441, 0.3887]],\n",
       "       device='cuda:0', grad_fn=<ViewBackward0>)"
      ]
     },
     "execution_count": 4,
     "metadata": {},
     "output_type": "execute_result"
    }
   ],
   "source": [
    "fnet(test_input)"
   ]
  },
  {
   "cell_type": "code",
   "execution_count": null,
   "metadata": {},
   "outputs": [],
   "source": [
    "conv_layer = nn.Conv1d(1, 1, kernel_size=101,padding=50)\n",
    "conv_test = np.random.rand(100,1,800)\n",
    "conv_test = torch.tensor(conv_test,dtype=dtype)\n",
    "batch_norm = nn.BatchNorm1d(1)\n",
    "rs = Reshape(-1,1,800)"
   ]
  },
  {
   "cell_type": "code",
   "execution_count": 2,
   "metadata": {},
   "outputs": [],
   "source": [
    "def conv1d_calculate(input_size, kernel_size_list, padding_list, strike_list):\n",
    "    '''\n",
    "    Calculate the output size of convolutional layer.\n",
    "    '''\n",
    "    output_size_list = []\n",
    "    for i in range(len(kernel_size_list)):\n",
    "        output_size = (input_size + 2 * padding_list[i] - kernel_size_list[i]) // strike_list[i] + 1\n",
    "        output_size_list.append(output_size)\n",
    "        input_size = output_size\n",
    "    return output_size_list\n"
   ]
  },
  {
   "cell_type": "code",
   "execution_count": 9,
   "metadata": {},
   "outputs": [
    {
     "data": {
      "text/plain": [
       "[2400, 2400, 2400, 2400, 2400, 2400, 127]"
      ]
     },
     "execution_count": 9,
     "metadata": {},
     "output_type": "execute_result"
    }
   ],
   "source": [
    "final_stride = (2400//(121))\n",
    "k_list = [101,75,51,25,15,7,5]\n",
    "p_list = [50,37,25,12,7,3,0]\n",
    "# p_list = [0,0,0,0,0,0,0]\n",
    "s_list = [1,1,1,1,1,1,final_stride]\n",
    "conv1d_calculate(2400,k_list,p_list,s_list)"
   ]
  },
  {
   "cell_type": "code",
   "execution_count": 38,
   "metadata": {},
   "outputs": [
    {
     "data": {
      "text/plain": [
       "6"
      ]
     },
     "execution_count": 38,
     "metadata": {},
     "output_type": "execute_result"
    }
   ],
   "source": [
    "(800//(121-1))"
   ]
  },
  {
   "cell_type": "code",
   "execution_count": null,
   "metadata": {},
   "outputs": [],
   "source": []
  }
 ],
 "metadata": {
  "kernelspec": {
   "display_name": "torch",
   "language": "python",
   "name": "python3"
  },
  "language_info": {
   "codemirror_mode": {
    "name": "ipython",
    "version": 3
   },
   "file_extension": ".py",
   "mimetype": "text/x-python",
   "name": "python",
   "nbconvert_exporter": "python",
   "pygments_lexer": "ipython3",
   "version": "3.10.4"
  },
  "orig_nbformat": 4
 },
 "nbformat": 4,
 "nbformat_minor": 2
}
